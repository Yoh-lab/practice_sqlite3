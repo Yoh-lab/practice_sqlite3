{
 "cells": [
  {
   "cell_type": "code",
   "execution_count": 1,
   "metadata": {},
   "outputs": [],
   "source": [
    "import sqlite3\n",
    "\n",
    "# データベースに接続\n",
    "filepath = \"test2.sqlite\"\n",
    "conn = sqlite3.connect(filepath)\n",
    "# filepathと同名のファイルがなければ，ファイルが作成されます\n",
    "\n",
    "# テーブルを作成\n",
    "cur = conn.cursor()\n",
    "cur.execute(\"DROP TABLE IF EXISTS items\")\n",
    "\n",
    "cur.execute(\"\"\"CREATE TABLE items(\n",
    "    item_id INTEGER PRIMARY KEY,\n",
    "    name TEXT UNIQUE,\n",
    "    price INTEGER\n",
    ")\"\"\")\n",
    "conn.commit()\n",
    "# item_idはテーブル定義でINTEGER PRIMARY KEYとして設定されており、これはSQLiteにおいて特別な意味を持ちます。\n",
    "# INTEGER PRIMARY KEYフィールドは、自動的にautoincrement（自動増分）の整数値を持つ特別な列であり、新しいレコードが挿入されるたびに自動的に一意の値が割り当てられます。\n",
    "# 新しいアイテムをitemsテーブルに挿入する際には、item_idを指定する必要はありません。\n",
    "# データベースシステムが自動的に次の利用可能な整数値をitem_idとして割り当てます。\n",
    "\n",
    "\n",
    "# 単発でデータを挿入\n",
    "cur.execute('INSERT INTO items (name , price) VALUES (?,?)',\n",
    "            (\"Orange\", 520))\n",
    "conn.commit()\n",
    "\n",
    "# 連続でデータを挿入\n",
    "cur = conn.cursor()\n",
    "data = [(\"Mango\", 770), (\"Kiwi\", 400), (\"Grape\", 800),\n",
    "        (\"Peach\", 940), (\"Persimmon\", 700), (\"Banana\", 400)]\n",
    "cur.executemany(\n",
    "    \"INSERT INTO items (name, price) VALUES (?,?)\", data)\n",
    "conn.commit()"
   ]
  },
  {
   "cell_type": "code",
   "execution_count": 2,
   "metadata": {},
   "outputs": [
    {
     "name": "stdout",
     "output_type": "stream",
     "text": [
      "(1, 'Orange', 520)\n",
      "(2, 'Mango', 770)\n",
      "(3, 'Kiwi', 400)\n",
      "(4, 'Grape', 800)\n",
      "(5, 'Peach', 940)\n",
      "(6, 'Persimmon', 700)\n",
      "(7, 'Banana', 400)\n"
     ]
    }
   ],
   "source": [
    "# 全データを抽出する（for文使用）\n",
    "cur = conn.cursor()\n",
    "cur.execute(\"SELECT item_id, name, price FROM items\")\n",
    "items_list = cur.fetchall()\n",
    "for fr in items_list:\n",
    "    print(fr)"
   ]
  },
  {
   "cell_type": "code",
   "execution_count": 3,
   "metadata": {},
   "outputs": [
    {
     "name": "stdout",
     "output_type": "stream",
     "text": [
      "(1, 'Orange', 520)\n",
      "(2, 'Mango', 770)\n",
      "(3, 'Kiwi', 400)\n",
      "(4, 'Grape', 800)\n",
      "(5, 'Peach', 940)\n",
      "(6, 'Persimmon', 700)\n",
      "(7, 'Banana', 400)\n"
     ]
    }
   ],
   "source": [
    "# 全データを抽出する（for文使用）\n",
    "cur = conn.cursor()\n",
    "cur.execute(\"SELECT item_id, name, price FROM items\")\n",
    "items_list = cur.fetchall()\n",
    "for fr in items_list:\n",
    "    print(fr)"
   ]
  },
  {
   "cell_type": "code",
   "execution_count": 4,
   "metadata": {},
   "outputs": [
    {
     "name": "stdout",
     "output_type": "stream",
     "text": [
      "(1, 'Orange', 520)\n",
      "(3, 'Kiwi', 400)\n",
      "(6, 'Persimmon', 700)\n",
      "(7, 'Banana', 400)\n"
     ]
    }
   ],
   "source": [
    "# 400-700円のデータを抽出して表示\n",
    "cur = conn.cursor()\n",
    "price_range = (400, 700)\n",
    "cur.execute(\n",
    "    \"SELECT * FROM items WHERE price >=? AND PRICE <=?\", price_range\n",
    ")\n",
    "fr_list = cur.fetchall()\n",
    "for fr in fr_list:\n",
    "    print(fr)"
   ]
  }
 ],
 "metadata": {
  "kernelspec": {
   "display_name": "Python 3",
   "language": "python",
   "name": "python3"
  },
  "language_info": {
   "codemirror_mode": {
    "name": "ipython",
    "version": 3
   },
   "file_extension": ".py",
   "mimetype": "text/x-python",
   "name": "python",
   "nbconvert_exporter": "python",
   "pygments_lexer": "ipython3",
   "version": "3.11.5"
  }
 },
 "nbformat": 4,
 "nbformat_minor": 2
}
